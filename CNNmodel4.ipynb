{
 "cells": [
  {
   "cell_type": "code",
   "execution_count": 64,
   "metadata": {},
   "outputs": [],
   "source": [
    "import torch\n",
    "from torchvision import models\n",
    "import os\n",
    "import numpy as np\n",
    "import torch.nn.functional as F\n",
    "from torch.utils.data import Dataset, DataLoader\n",
    "import torchvision.transforms as transforms\n",
    "import torch.nn as nn\n",
    "import torch.optim as optim\n",
    "import pandas as pd\n",
    "import matplotlib.pyplot as plt\n",
    "\n",
    "from skimage import io, transform\n",
    "from PIL import Image\n",
    "from sklearn.metrics import r2_score, mean_squared_error"
   ]
  },
  {
   "cell_type": "code",
   "execution_count": 65,
   "metadata": {},
   "outputs": [],
   "source": [
    "class EggShellDataset(Dataset):\n",
    "    def __init__(self, csv_file, root_dir, transform=None):\n",
    "        self.data_frame = pd.read_csv(csv_file)\n",
    "        self.root_dir = root_dir\n",
    "        self.transform = transform\n",
    "\n",
    "    def __len__(self):\n",
    "        return len(self.data_frame)\n",
    "\n",
    "    def __getitem__(self, idx):\n",
    "        if torch.is_tensor(idx):\n",
    "            idx = idx.tolist()\n",
    "\n",
    "        img_name = self.data_frame.iloc[idx, 0]\n",
    "        #image = io.imread(img_name)\n",
    "        image = Image.open(img_name).convert('L')\n",
    "        measurements = self.data_frame.iloc[idx, 1:].values.astype('float')\n",
    "        sample = {'image': image, 'measurements': measurements}\n",
    "\n",
    "        if self.transform:\n",
    "            sample['image'] = self.transform(sample['image'])\n",
    "\n",
    "        return sample"
   ]
  },
  {
   "cell_type": "code",
   "execution_count": 66,
   "metadata": {},
   "outputs": [],
   "source": [
    "class Rescale(object):\n",
    "    def __init__(self, output_size):\n",
    "        assert isinstance(output_size, (int, tuple))\n",
    "        self.output_size = output_size\n",
    "\n",
    "    def __call__(self, sample):\n",
    "        image, measurements = sample['image'], sample['measurements']\n",
    "\n",
    "        h, w = image.shape[:2]\n",
    "        if isinstance(self.output_size, int):\n",
    "            if h > w:\n",
    "                new_h, new_w = self.output_size * h / w, self.output_size\n",
    "            else:\n",
    "                new_h, new_w = self.output_size, self.output_size * w / h\n",
    "        else:\n",
    "            new_h, new_w = self.output_size\n",
    "\n",
    "        new_h, new_w = int(new_h), int(new_w)\n",
    "\n",
    "        img = transform.resize(image, (new_h, new_w))\n",
    "\n",
    "        # Verificando e ajustando as dimensões da imagem para ter 3 canais (RGB)\n",
    "        if len(img.shape) < 3:\n",
    "            img = img[:, :, np.newaxis]\n",
    "            img = np.concatenate([img, img, img], axis=2)\n",
    "\n",
    "        return {'image': img, 'measurements': measurements}"
   ]
  },
  {
   "cell_type": "code",
   "execution_count": 67,
   "metadata": {},
   "outputs": [],
   "source": [
    "class ToTensor(object):\n",
    "    def __call__(self, sample):\n",
    "        image, measurements = sample['image'], sample['measurements']\n",
    "\n",
    "        # Adicionando um canal para as imagens (para o PyTorch)\n",
    "        image = image.transpose((2, 0, 1))\n",
    "        return {'image': torch.from_numpy(image).float(), 'measurements': torch.from_numpy(measurements).float()}"
   ]
  },
  {
   "cell_type": "code",
   "execution_count": 68,
   "metadata": {},
   "outputs": [],
   "source": [
    "data_transform = transforms.Compose([\n",
    "    #transforms.ToPILImage(),\n",
    "    transforms.Resize((224, 224)),\n",
    "    transforms.ToTensor(),\n",
    "    #transforms.Normalize(mean=[0.485, 0.456, 0.406], std=[0.229, 0.224, 0.225])\n",
    "])"
   ]
  },
  {
   "cell_type": "code",
   "execution_count": 69,
   "metadata": {},
   "outputs": [],
   "source": [
    "train_dataset = EggShellDataset(csv_file='imagem/train.csv', root_dir='imagem/', transform=data_transform)\n",
    "test_dataset = EggShellDataset(csv_file='imagem/test.csv', root_dir='imagem/', transform=data_transform)\n",
    "\n",
    "# Definindo DataLoader\n",
    "train_loader = DataLoader(train_dataset, batch_size=32, shuffle=True)\n",
    "test_loader = DataLoader(test_dataset, batch_size=32, shuffle=False)"
   ]
  },
  {
   "cell_type": "code",
   "execution_count": 70,
   "metadata": {},
   "outputs": [],
   "source": [
    "class CNNRegression(nn.Module):\n",
    "    def __init__(self):\n",
    "        super(CNNRegression, self).__init__()\n",
    "        self.conv = models.vgg16(pretrained=True).features\n",
    "        \n",
    "        # Substituir a primeira camada convolucional para aceitar um canal (escala de cinza)\n",
    "        self.conv[0] = nn.Conv2d(1, 64, kernel_size=3, padding=1)\n",
    "        \n",
    "        self.fc = nn.Sequential(\n",
    "            nn.Linear(512 * 7 * 7, 4096),\n",
    "            nn.ReLU(),\n",
    "            nn.Dropout(),\n",
    "            nn.Linear(4096, 4096),\n",
    "            nn.ReLU(),\n",
    "            nn.Dropout(),\n",
    "            nn.Linear(4096, 6)\n",
    "        )\n",
    "\n",
    "    def forward(self, x):\n",
    "        x = self.conv(x)\n",
    "        x = x.view(x.size(0), -1)\n",
    "        x = self.fc(x)\n",
    "        return x\n"
   ]
  },
  {
   "cell_type": "code",
   "execution_count": 71,
   "metadata": {},
   "outputs": [],
   "source": [
    "# class EggShellCNN(nn.Module):\n",
    "#     def __init__(self):\n",
    "#         super(EggShellCNN, self).__init__()\n",
    "#         self.conv1 = nn.Conv2d(3, 16, kernel_size=3, stride=1, padding=1)\n",
    "#         self.conv2 = nn.Conv2d(16, 32, kernel_size=3, stride=1, padding=1)\n",
    "#         self.conv3 = nn.Conv2d(32, 64, kernel_size=3, stride=1, padding=1)\n",
    "#         self.fc1 = nn.Linear(64 * 64 * 64, 128)\n",
    "#         self.fc2 = nn.Linear(128, 5)  # 5 saídas para as medidas\n",
    "\n",
    "#     def forward(self, x):\n",
    "#         x = torch.relu(self.conv1(x))\n",
    "#         x = torch.relu(self.conv2(x))\n",
    "#         x = torch.relu(self.conv3(x))\n",
    "#         x = x.view(-1, 64 * 64 * 64)\n",
    "#         x = torch.relu(self.fc1(x))\n",
    "#         x = self.fc2(x)\n",
    "#         return x"
   ]
  },
  {
   "cell_type": "code",
   "execution_count": 72,
   "metadata": {},
   "outputs": [],
   "source": [
    "\n",
    "class Net(nn.Module):\n",
    "    def __init__(self):\n",
    "        super(Net, self).__init__()\n",
    "        self.conv = nn.Sequential(\n",
    "            nn.Conv2d(1, 64, 3),\n",
    "            nn.ReLU(),\n",
    "            nn.MaxPool2d(2),\n",
    "            nn.Conv2d(64, 128, 3),\n",
    "            nn.ReLU(),\n",
    "            nn.MaxPool2d(2)\n",
    "        )\n",
    "        self.fc = nn.Linear(128 * 53 * 53, 4096)  # Ajuste esta dimensão conforme necessário\n",
    "        self.fc2 = nn.Linear(4096, 1)\n",
    "\n",
    "    def forward(self, x):\n",
    "        x = self.conv(x)\n",
    "        x = x.view(x.size(0), -1)\n",
    "        x = F.relu(self.fc(x))\n",
    "        x = self.fc2(x)\n",
    "        return x\n"
   ]
  },
  {
   "cell_type": "code",
   "execution_count": 73,
   "metadata": {},
   "outputs": [
    {
     "name": "stderr",
     "output_type": "stream",
     "text": [
      "c:\\Users\\camil\\AppData\\Local\\Programs\\Python\\Python310\\lib\\site-packages\\torchvision\\models\\_utils.py:208: UserWarning: The parameter 'pretrained' is deprecated since 0.13 and may be removed in the future, please use 'weights' instead.\n",
      "  warnings.warn(\n",
      "c:\\Users\\camil\\AppData\\Local\\Programs\\Python\\Python310\\lib\\site-packages\\torchvision\\models\\_utils.py:223: UserWarning: Arguments other than a weight enum or `None` for 'weights' are deprecated since 0.13 and may be removed in the future. The current behavior is equivalent to passing `weights=VGG16_Weights.IMAGENET1K_V1`. You can also use `weights=VGG16_Weights.DEFAULT` to get the most up-to-date weights.\n",
      "  warnings.warn(msg)\n"
     ]
    }
   ],
   "source": [
    "#model = EggShellCNN()\n",
    "\n",
    "model = CNNRegression()\n",
    "\n",
    "#model = Net()\n",
    "# Definindo a função de perda e o otimizador\n",
    "criterion = nn.MSELoss()\n",
    "optimizer = optim.Adam(model.parameters(), lr=0.001)\n"
   ]
  },
  {
   "cell_type": "code",
   "execution_count": 74,
   "metadata": {},
   "outputs": [],
   "source": [
    "def adjusted_r2(y_test, y_pred, X_train):\n",
    "    adj_r2 = (1 - ((1 - r2_score(y_test, y_pred)) * (len(y_test) - 1)) / \n",
    "              (len(y_test) - X_train.shape[1] - 1))\n",
    "    return adj_r2"
   ]
  },
  {
   "cell_type": "code",
   "execution_count": 75,
   "metadata": {},
   "outputs": [
    {
     "name": "stdout",
     "output_type": "stream",
     "text": [
      "Epoch 1, Loss: 223846.3230102539, Adjusted R2 Socre: -1235.7394584489252, RMSE: 237.52832607135207\n",
      "Epoch 2, Loss: 675.1770629882812, Adjusted R2 Socre: -233.56373573083744, RMSE: 24.677357630565847\n",
      "Epoch 3, Loss: 630.3544311523438, Adjusted R2 Socre: -793.7092997718282, RMSE: 24.85952480124947\n",
      "Epoch 4, Loss: 482.0367126464844, Adjusted R2 Socre: -2318.8115201211135, RMSE: 21.862148267091882\n",
      "Epoch 5, Loss: 318.25022888183594, Adjusted R2 Socre: -342.354682341039, RMSE: 17.638643118755517\n",
      "Epoch 6, Loss: 230.9996124267578, Adjusted R2 Socre: -158.33092465059408, RMSE: 15.160053649723562\n",
      "Epoch 7, Loss: 220.43780212402345, Adjusted R2 Socre: -2065.9512695735307, RMSE: 14.777544581777892\n",
      "Epoch 8, Loss: 121.13965301513672, Adjusted R2 Socre: -152.70577380399018, RMSE: 10.9583277525164\n",
      "Epoch 9, Loss: 117.54316711425781, Adjusted R2 Socre: -172.397847090377, RMSE: 10.757186717238952\n",
      "Epoch 10, Loss: 112.99426879882813, Adjusted R2 Socre: -137.8944047254007, RMSE: 10.61091717788444\n",
      "Finished Training\n"
     ]
    }
   ],
   "source": [
    "num_epochs = 10\n",
    "\n",
    "train_losses = []\n",
    "train_r2_scores = []\n",
    "train_rmse_scores = []\n",
    "\n",
    "for epoch in range(num_epochs):\n",
    "    running_loss = 0.0\n",
    "\n",
    "    epoch_r2_scores = []\n",
    "    epoch_rmse_scores = []\n",
    "\n",
    "    for i, data in enumerate(train_loader, 0):\n",
    "        inputs, labels = data['image'], data['measurements']\n",
    "        inputs = inputs[:,:1,:,:]\n",
    "        optimizer.zero_grad()\n",
    "        outputs = model(inputs)\n",
    "        loss = criterion(outputs, labels.float())\n",
    "        loss.backward()\n",
    "        optimizer.step()\n",
    "\n",
    "        predicted = outputs.detach().numpy()\n",
    "        actual = labels.numpy()\n",
    "        epoch_r2_score = adjusted_r2(actual,predicted, inputs)\n",
    "        epoch_r2_scores.append(epoch_r2_score)\n",
    "\n",
    "        mse = mean_squared_error(actual, predicted)\n",
    "        rmse = mse**0.5\n",
    "        epoch_rmse_scores.append(rmse)\n",
    "\n",
    "        running_loss += loss.item()\n",
    "\n",
    "    epoch_loss = running_loss / len(train_loader)\n",
    "    train_losses.append(epoch_loss)\n",
    "\n",
    "    mean_epoch_r2_score = np.mean(epoch_r2_scores)\n",
    "    train_r2_scores.append(mean_epoch_r2_score)\n",
    "\n",
    "    mean_epoch_rmse_score = np.mean(epoch_rmse_scores)\n",
    "    train_rmse_scores.append(mean_epoch_rmse_score)\n",
    "\n",
    "    print(f'Epoch {epoch+1}, Loss: {epoch_loss}, Adjusted R2 Socre: {epoch_r2_score}, RMSE: {mean_epoch_rmse_score}')\n",
    "\n",
    "    #print(f'Epoch {epoch+1}, Loss: {running_loss / len(train_loader)}')\n",
    "\n",
    "print('Finished Training')"
   ]
  },
  {
   "cell_type": "code",
   "execution_count": 76,
   "metadata": {},
   "outputs": [
    {
     "data": {
      "image/png": "[encoded data removed]",
      "text/plain": [
       "<Figure size 1000x500 with 3 Axes>"
      ]
     },
     "metadata": {},
     "output_type": "display_data"
    }
   ],
   "source": [
    "num_epochs = len(train_losses)\n",
    "epochs = np.arange(1, num_epochs + 1)\n",
    "\n",
    "plt.figure(figsize=(10, 5))\n",
    "\n",
    "# Plotando a perda\n",
    "plt.subplot(1, 3, 1)\n",
    "plt.plot(epochs, train_losses, label='Training Loss')\n",
    "plt.xlabel('Epoch')\n",
    "plt.ylabel('Loss')\n",
    "plt.title('Training Loss')\n",
    "plt.legend()\n",
    "\n",
    "# Plotando o R2 score ajustado\n",
    "plt.subplot(1, 3, 2)\n",
    "plt.plot(epochs, train_r2_scores, label='Adjusted R2 Score', color='orange')\n",
    "plt.xlabel('Epoch')\n",
    "plt.ylabel('Adjusted R2 Score')\n",
    "plt.title('Adjusted R2 Score')\n",
    "plt.legend()\n",
    "\n",
    "# Plotando o RMSE\n",
    "plt.subplot(1, 3, 3)\n",
    "plt.plot(epochs, train_rmse_scores, label='RMSE', color='green')\n",
    "plt.xlabel('Epoch')\n",
    "plt.ylabel('RMSE')\n",
    "plt.title('RMSE')\n",
    "plt.legend()\n",
    "\n",
    "plt.tight_layout()\n",
    "plt.show()"
   ]
  },
  {
   "cell_type": "code",
   "execution_count": 77,
   "metadata": {},
   "outputs": [
    {
     "name": "stdout",
     "output_type": "stream",
     "text": [
      "Average Test Loss: 94.95005798339844\n"
     ]
    }
   ],
   "source": [
    "model.eval()\n",
    "total_loss = 0.0\n",
    "with torch.no_grad():\n",
    "    for data in test_loader:\n",
    "        inputs, labels = data['image'], data['measurements']\n",
    "        outputs = model(inputs)\n",
    "        loss = criterion(outputs, labels.float())\n",
    "        total_loss += loss.item()\n",
    "\n",
    "print(f'Average Test Loss: {total_loss / len(test_loader)}')"
   ]
  }
 ],
 "metadata": {
  "kernelspec": {
   "display_name": "Python 3",
   "language": "python",
   "name": "python3"
  },
  "language_info": {
   "codemirror_mode": {
    "name": "ipython",
    "version": 3
   },
   "file_extension": ".py",
   "mimetype": "text/x-python",
   "name": "python",
   "nbconvert_exporter": "python",
   "pygments_lexer": "ipython3",
   "version": "3.10.4"
  }
 },
 "nbformat": 4,
 "nbformat_minor": 2
}
